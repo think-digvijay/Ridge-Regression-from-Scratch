{
 "cells": [
  {
   "cell_type": "code",
   "execution_count": 1,
   "metadata": {},
   "outputs": [],
   "source": [
    "import numpy as np \n",
    "import pandas as pd \n",
    "from sklearn.model_selection import train_test_split \n",
    "import matplotlib.pyplot as plt "
   ]
  },
  {
   "cell_type": "code",
   "execution_count": 2,
   "metadata": {},
   "outputs": [],
   "source": [
    "class RidgeRegression():\n",
    "    \n",
    "    def __init__( self, learning_rate, iterations, l2_penality ) : \n",
    "          \n",
    "        self.learning_rate = learning_rate         \n",
    "        self.iterations = iterations         \n",
    "        self.l2_penality = l2_penality \n",
    "        \n",
    "    def fit(self, X, Y) :\n",
    "        self.m, self.n = X.shape\n",
    "        \n",
    "        self.W = np.zeros(self.n)\n",
    "        \n",
    "        self.b = 0\n",
    "        self.X = X\n",
    "        self.Y = Y\n",
    "        \n",
    "        for i in range(self.iterations) :\n",
    "            self.update_weights()\n",
    "        return self\n",
    "    \n",
    "    def update_weights(self) :\n",
    "        Y_pred = self.predict(self.X)\n",
    "        \n",
    "        dW = ( - ( 2 * ( self.X.T ).dot( self.Y - Y_pred ) ) +               \n",
    "               ( 2 * self.l2_penality * self.W ) ) / self.m      \n",
    "        db = - 2 * np.sum( self.Y - Y_pred ) / self.m  \n",
    "        \n",
    "        self.W = self.W - self.learning_rate * dW     \n",
    "        self.b = self.b - self.learning_rate * db         \n",
    "        return self\n",
    "    \n",
    "    def predict( self, X ) :     \n",
    "        return X.dot( self.W ) + self.b \n",
    "        "
   ]
  },
  {
   "cell_type": "code",
   "execution_count": 3,
   "metadata": {},
   "outputs": [
    {
     "name": "stdout",
     "output_type": "stream",
     "text": [
      "Predicted values  [ 40831.44 122898.14  65078.42]\n",
      "Real values       [ 37731. 122391.  57081.]\n",
      "Trained W         9325.76\n",
      "Trained b         26842.8\n"
     ]
    },
    {
     "data": {
      "image/png": "[encoded data removed]",
      "text/plain": [
       "<Figure size 432x288 with 1 Axes>"
      ]
     },
     "metadata": {
      "needs_background": "light"
     },
     "output_type": "display_data"
    }
   ],
   "source": [
    "def main() :\n",
    "    df = pd.read_csv(\"salary_data.csv\")\n",
    "    X = df.iloc[:, :-1].values \n",
    "    Y = df.iloc[:, 1].values \n",
    "    \n",
    "    X_train, X_test, Y_train, Y_test = train_test_split( X, Y, test_size = 1 / 3, random_state = 0 ) \n",
    "    \n",
    "    model = RidgeRegression( iterations = 1000, learning_rate = 0.01, l2_penality = 1 ) \n",
    "    model.fit( X_train, Y_train ) \n",
    "    \n",
    "    Y_pred = model.predict( X_test )     \n",
    "    print( \"Predicted values \", np.round( Y_pred[:3], 2 ) )      \n",
    "    print( \"Real values      \", Y_test[:3] )     \n",
    "    print( \"Trained W        \", round( model.W[0], 2 ) )     \n",
    "    print( \"Trained b        \", round( model.b, 2 ) ) \n",
    "    \n",
    "    plt.scatter( X_test, Y_test, color = 'blue' )     \n",
    "    plt.plot( X_test, Y_pred, color = 'orange' )     \n",
    "    plt.title( 'Salary vs Experience' )     \n",
    "    plt.xlabel( 'Years of Experience' )     \n",
    "    plt.ylabel( 'Salary' )     \n",
    "    plt.show() \n",
    "      \n",
    "if __name__ == \"__main__\" :  \n",
    "    main() "
   ]
  },
  {
   "cell_type": "code",
   "execution_count": null,
   "metadata": {},
   "outputs": [],
   "source": []
  }
 ],
 "metadata": {
  "kernelspec": {
   "display_name": "Python 3",
   "language": "python",
   "name": "python3"
  },
  "language_info": {
   "codemirror_mode": {
    "name": "ipython",
    "version": 3
   },
   "file_extension": ".py",
   "mimetype": "text/x-python",
   "name": "python",
   "nbconvert_exporter": "python",
   "pygments_lexer": "ipython3",
   "version": "3.8.3"
  }
 },
 "nbformat": 4,
 "nbformat_minor": 4
}
